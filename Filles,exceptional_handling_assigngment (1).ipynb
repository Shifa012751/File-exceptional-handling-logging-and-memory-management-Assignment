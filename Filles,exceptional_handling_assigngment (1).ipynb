{
  "nbformat": 4,
  "nbformat_minor": 0,
  "metadata": {
    "colab": {
      "provenance": []
    },
    "kernelspec": {
      "name": "python3",
      "display_name": "Python 3"
    },
    "language_info": {
      "name": "python"
    }
  },
  "cells": [
    {
      "cell_type": "markdown",
      "source": [
        "#**Files, exceptional handling, logging and memory management Questions**"
      ],
      "metadata": {
        "id": "etXpG8eIMQ_p"
      }
    },
    {
      "cell_type": "markdown",
      "source": [
        " **Q.1 What is the difference between interpreted and compiled languages?**\n",
        "\n",
        " *Answer* - Interpreted language are execute line by line by an interpreter at runtime, whereas compiled language are coverted into machine code beforehand by compiler.\n",
        "\n",
        " Example of interpreted languages include python, javascript and Ruby, while example of compiled languages include C, C++, and Fortran."
      ],
      "metadata": {
        "id": "PPGnJ1N8O_sa"
      }
    },
    {
      "cell_type": "markdown",
      "source": [
        "**Q.2 What is exception handling in python**\n",
        "\n",
        "*Answer* - Exception handling in Python is a mechanism to handle runtime errors so that the normal flow of application can be maintained. It involves using try, except, else, and finally blocks to catch and handle exception."
      ],
      "metadata": {
        "id": "0JolhVUmRDoi"
      }
    },
    {
      "cell_type": "markdown",
      "source": [
        "**Q.3 What is purpose of finally block in exception handling?**\n",
        "\n",
        "*Answer* - The finally block is used to execute a set of statement regardless of whether exception occur or not.\n"
      ],
      "metadata": {
        "id": "W3IX16L3RrfS"
      }
    },
    {
      "cell_type": "markdown",
      "source": [
        "**Q.4 What is logging in python?**\n",
        "\n",
        "*Answer* - Logging in Python is a built-in module that allows you to record events happening during the execution of program. it provides a flexible framework for emmiting log messages from python programs."
      ],
      "metadata": {
        "id": "4PeGM3rySeu9"
      }
    },
    {
      "cell_type": "markdown",
      "source": [
        "**Q.5 What is significance of the *del method in python?**\n",
        "\n",
        "*Answer* - The del method is a special method in python classes that is automatically called when an object is about to destroyed. It is used to release system resources, close files, or perform cleanup operations.\n"
      ],
      "metadata": {
        "id": "uAW_lYLPS6BR"
      }
    },
    {
      "cell_type": "markdown",
      "source": [
        "**Q.6 What is the difference between import and from ... import in Python?**\n",
        "\n",
        "*Answer* - The import statement imports a module and makes it available for use, while the from ... import statement imports specific functions or variables from a module.\n"
      ],
      "metadata": {
        "id": "qwQkV_GcUyUf"
      }
    },
    {
      "cell_type": "markdown",
      "source": [
        "**Q.7 How can you handle multiple exceptions in Python?**\n",
        "\n",
        "*Answer* - You can handle multiple exceptions in Python by using multiple except blocks or by using a single except block with a tuple of exception types.\n"
      ],
      "metadata": {
        "id": "ChYyuGtdVBbs"
      }
    },
    {
      "cell_type": "markdown",
      "source": [
        "**Q.8 What is the purpose of the with statement when handling files in Python?**\n",
        "\n",
        "*Answer* - The with statement is used to open a file and automatically close it when you are done with it, regardless of whether an exception occurred or not.\n",
        "\n"
      ],
      "metadata": {
        "id": "5NXibJW5VTP0"
      }
    },
    {
      "cell_type": "markdown",
      "source": [
        "**Q.9 What is the difference between multithreading and multiprocessing?**\n",
        "\n",
        "*Answer* - Multithreading involves executing multiple threads within a single process, while multiprocessing involves executing multiple processes simultaneously.\n"
      ],
      "metadata": {
        "id": "KdqtM0z_V2MG"
      }
    },
    {
      "cell_type": "markdown",
      "source": [
        "**Q.10 What are the advantages of using logging in a program?**\n",
        "\n",
        "The advantages of using logging in a program include:\n",
        "\n",
        "*   Debugging: Logging helps identify and diagnose issues in the code.\n",
        "*   Auditing: Logging provides a record of events that can be used for auditing purposes.\n",
        "*   Performance monitoring: Logging can be used to monitor the performance of a program\n",
        "\n"
      ],
      "metadata": {
        "id": "DR8ayG5aWHN2"
      }
    },
    {
      "cell_type": "markdown",
      "source": [
        "**Q.11 What is memory management in Python?**\n",
        "\n",
        "*Answer* -Memory management in Python refers to the process of managing the memory used by Python objects. Python has automatic memory management through its garbage collector.\n",
        "\n"
      ],
      "metadata": {
        "id": "UsOmBm8hWn1F"
      }
    },
    {
      "cell_type": "markdown",
      "source": [
        "**Q.12 What are the basic steps involved in exception handling in Python?**\n",
        "\n",
        "The basic steps involved in exception handling in Python are:\n",
        "\n",
        "1. Try: Execute a block of code that may raise an exception.\n",
        "2. Except: Catch and handle the exception raised in the try block.\n",
        "3. Else: Execute a block of code if no exception occurred in the try block.\n",
        "4. Finally: Execute a block of code regardless of whether an exception occurred or not.\n"
      ],
      "metadata": {
        "id": "wh0-Tts9WxEg"
      }
    },
    {
      "cell_type": "markdown",
      "source": [
        "**Q.13 Why is memory management important in Python?**\n",
        "\n",
        "*Answer* - Memory management is important in Python because it helps prevent memory leaks, reduces the risk of crashes, and improves the overall performance of the program.\n"
      ],
      "metadata": {
        "id": "jQABwsqiW8P2"
      }
    },
    {
      "cell_type": "markdown",
      "source": [
        "**Q.14 What is the role of try and except in exception handling?**\n",
        "\n",
        "*Answer* - The try block is used to execute a block of code that may raise an exception, while the except block is used to catch and handle the exception raised in the try block.\n"
      ],
      "metadata": {
        "id": "NdSj3-j1XWIm"
      }
    },
    {
      "cell_type": "markdown",
      "source": [
        "**Q.15 How does Python's garbage collection system work?**\n",
        "\n",
        "*Answer* - Python's garbage collection system works by periodically identifying and freeing memory occupied by objects that are no longer needed or referenced.\n",
        "\n"
      ],
      "metadata": {
        "id": "AF6wn_JKXoLL"
      }
    },
    {
      "cell_type": "markdown",
      "source": [
        "**Q.16 What is the purpose of the else block in exception handling?**\n",
        "\n",
        "*Answer* - The else block is used to execute a block of code if no exception occurred in the try block.\n",
        "\n",
        "\n"
      ],
      "metadata": {
        "id": "sDEARogAX4W-"
      }
    },
    {
      "cell_type": "markdown",
      "source": [
        "**Q.17 What are the common logging levels in Python?**\n",
        "\n",
        "The common logging levels in Python are:\n",
        "\n",
        "*    DEBUG: Detailed information for debugging purposes.\n",
        "*    INFO: Informational messages.\n",
        "*    WARNING: Potential problems or unexpected events.\n",
        "*    ERROR: Errors that prevent normal program execution.\n",
        "*    CRITICAL: Critical errors that require immediate attention.\n"
      ],
      "metadata": {
        "id": "TZiSuW_hYM0S"
      }
    },
    {
      "cell_type": "markdown",
      "source": [
        "**Q.18 What is the difference between os.fork() and multiprocessing in Python?**\n",
        "\n",
        "*Answer* - os.fork() creates a new process by duplicating the current process, while multiprocessing creates a new process using a different approach that is more suitable for parallel processing.\n",
        "\n"
      ],
      "metadata": {
        "id": "nkhASWc0YrV2"
      }
    },
    {
      "cell_type": "markdown",
      "source": [
        "**Q.19 What is the importance of closing a file in Python?**\n",
        "\n",
        "*Answer* - Closing a file in Python is important to release system resources, prevent data corruption, and ensure that the file is properly updated.\n"
      ],
      "metadata": {
        "id": "Is0twZgZZDQa"
      }
    },
    {
      "cell_type": "markdown",
      "source": [
        "**Q.20 What is the difference between file.read() and file.readline() in Python?**\n",
        "\n",
        "*Answer* - file.read() reads the entire contents of a file, while file.readline() reads a single line from a file.\n",
        "\n"
      ],
      "metadata": {
        "id": "_eNLC4DJZSUv"
      }
    },
    {
      "cell_type": "markdown",
      "source": [
        "**Q.21 What is the logging module in Python used for?**\n",
        "\n",
        "*Answer* - The logging module in Python is used for recording events happening during the execution of a program.\n"
      ],
      "metadata": {
        "id": "hYcARDfyZqeS"
      }
    },
    {
      "cell_type": "markdown",
      "source": [
        "**Q.22  What is the os module in Python used for in file handling?**\n",
        "\n",
        "*Answer* The os module in Python is used for interacting with the operating system and file system.\n"
      ],
      "metadata": {
        "id": "Q2X4KqnkYiO9"
      }
    },
    {
      "cell_type": "markdown",
      "source": [
        "**Q.23  What are the challenges associated with memory management in Python?**\n",
        "\n",
        "*Answer* - The challenges associated with memory management in Python include memory leaks, reference cycles, and fragmentation.\n"
      ],
      "metadata": {
        "id": "m65HZ9O_bght"
      }
    },
    {
      "cell_type": "markdown",
      "source": [
        "**Q.24   How do you raise an exception manually in Python?**\n",
        "\n",
        "*Answer* - To raise an exception manually in Python, you can use the raise keyword followed by the exception type and an optional error message.\n"
      ],
      "metadata": {
        "id": "bmbt_0VEcNoI"
      }
    },
    {
      "cell_type": "markdown",
      "source": [
        "**Q.25  Why is it important to use multithreading in certain applications?**\n",
        "\n",
        "*Answer* - It is important to use multithreading in certain applications because it allows multiple threads to execute concurrently, improving the responsiveness and performance of the application."
      ],
      "metadata": {
        "id": "vm2kkCRXdNA9"
      }
    },
    {
      "cell_type": "markdown",
      "source": [
        "# **Practical Questions**"
      ],
      "metadata": {
        "id": "Xz0WRmFRdy7F"
      }
    },
    {
      "cell_type": "markdown",
      "source": [
        "**Q.1 How can you open a file for writing in Python and write a string to it?**\n",
        "\n",
        "*Answer* -"
      ],
      "metadata": {
        "id": "hBEen52Q6NwS"
      }
    },
    {
      "cell_type": "code",
      "source": [
        "# Specify the file name\n",
        "file_name = 'output.txt'\n",
        "\n",
        "# Open the file for writing\n",
        "with open(file_name, 'w') as file:\n",
        "    # Write a string to the file\n",
        "    file.write('Hello, World! This is a test string.')\n",
        "\n",
        "print(f\"The string has been written to '{file_name}'.\")"
      ],
      "metadata": {
        "colab": {
          "base_uri": "https://localhost:8080/"
        },
        "id": "wwwf12Ph6YMC",
        "outputId": "fb8e2d1f-d28d-4120-e33a-a3eaa16622a1"
      },
      "execution_count": null,
      "outputs": [
        {
          "output_type": "stream",
          "name": "stdout",
          "text": [
            "The string has been written to 'output.txt'.\n"
          ]
        }
      ]
    },
    {
      "cell_type": "markdown",
      "source": [
        "**Q.2  Write a Python program to read the contents of a file and print each line?**\n",
        "\n",
        "*Answer* -\n"
      ],
      "metadata": {
        "id": "2ge28G3fgwEx"
      }
    },
    {
      "cell_type": "code",
      "source": [
        "# Specify the file name\n",
        "file_name = 'input.txt'\n",
        "\n",
        "# Read the contents of the file and print each line\n",
        "try:\n",
        "    with open(file_name, 'r') as file:\n",
        "        for line in file:\n",
        "            print(line.strip())  # Print each line without leading/trailing whitespace\n",
        "\n",
        "except FileNotFoundError:\n",
        "    print(f\"Error: The file '{file_name}' does not exist.\")\n",
        "except IOError as e:\n",
        "    print(f\"An I/O error occurred: {e}\")"
      ],
      "metadata": {
        "colab": {
          "base_uri": "https://localhost:8080/"
        },
        "id": "2EevAW5Z6rkd",
        "outputId": "052661b3-9fa4-44bd-e40f-e000f9e920cb"
      },
      "execution_count": null,
      "outputs": [
        {
          "output_type": "stream",
          "name": "stdout",
          "text": [
            "Error: The file 'input.txt' does not exist.\n"
          ]
        }
      ]
    },
    {
      "cell_type": "markdown",
      "source": [
        "**Q.3 How would you handle a case where the file doesn't exist while trying to open it for reading**\n",
        "\n",
        "*Answer*\n",
        "\n"
      ],
      "metadata": {
        "id": "k482hO06iRS_"
      }
    },
    {
      "cell_type": "code",
      "source": [
        "try:\n",
        "   with open('non_existent_file.txt', 'r') as file:\n",
        "       content = file.read()\n",
        "except FileNotFoundError:\n",
        "   print(\"The file does not exist.\")\n"
      ],
      "metadata": {
        "colab": {
          "base_uri": "https://localhost:8080/"
        },
        "id": "aXY4cm9g71aw",
        "outputId": "3fe77bdc-660d-44f6-e9f7-58b5eb6a3a0e"
      },
      "execution_count": null,
      "outputs": [
        {
          "output_type": "stream",
          "name": "stdout",
          "text": [
            "The file does not exist.\n"
          ]
        }
      ]
    },
    {
      "cell_type": "markdown",
      "source": [
        "**Q.4 Write a Python script that reads from one file and writes its content to another file?**\n",
        "\n",
        "*Answer*\n",
        "\n"
      ],
      "metadata": {
        "id": "TOOOCRWU9sd9"
      }
    },
    {
      "cell_type": "code",
      "source": [
        "def copy_file(source_filename, destination_filename):\n",
        "    try:\n",
        "        # Open the source file in read mode\n",
        "        with open(source_filename, 'r') as source_file:\n",
        "            # Read the content of the source file\n",
        "            content = source_file.read()\n",
        "\n",
        "        # Open the destination file in write mode\n",
        "        with open(destination_filename, 'w') as destination_file:\n",
        "            # Write the content to the destination file\n",
        "            destination_file.write(content)\n",
        "\n",
        "        print(f\"Content copied from {source_filename} to {destination_filename} successfully.\")\n",
        "    except Exception as e:\n",
        "        print(f\"An error occurred: {e}\")\n",
        "\n",
        "# Create a sample source file\n",
        "source_filename = 'source.txt'\n",
        "with open(source_filename, 'w') as file:\n",
        "    file.write(\"Hello, PW skills!\\n\")\n",
        "    file.write(\"This is the second line.\\n\")\n",
        "    file.write(\"This is the third line.\\n\")\n",
        "\n",
        "# Copy the content to a destination file\n",
        "destination_filename = 'destination.txt'\n",
        "copy_file(source_filename, destination_filename)\n",
        "\n",
        "# Print the content of the destination file\n",
        "with open(destination_filename, 'r') as file:\n",
        "    print(\"Destination File Content:\")\n",
        "    print(file.read())\n"
      ],
      "metadata": {
        "colab": {
          "base_uri": "https://localhost:8080/"
        },
        "id": "Rxp2Cl0X9K_R",
        "outputId": "d7d8a8d4-0839-4376-ae5f-4f8fcd016ae3"
      },
      "execution_count": null,
      "outputs": [
        {
          "output_type": "stream",
          "name": "stdout",
          "text": [
            "Content copied from source.txt to destination.txt successfully.\n",
            "Destination File Content:\n",
            "Hello, PW skills!\n",
            "This is the second line.\n",
            "This is the third line.\n",
            "\n"
          ]
        }
      ]
    },
    {
      "cell_type": "markdown",
      "source": [
        "**Q.5 How would you catch and handle division by zero error in Python?**\n",
        "\n",
        "*Answer* -\n"
      ],
      "metadata": {
        "id": "qvqO8wvG_KBN"
      }
    },
    {
      "cell_type": "code",
      "source": [
        "try:\n",
        "    result = 10 / 0\n",
        "except ZeroDivisionError:\n",
        "   print(\"Cannot divide by zero.\")"
      ],
      "metadata": {
        "colab": {
          "base_uri": "https://localhost:8080/"
        },
        "id": "tAeQqyHA9dk5",
        "outputId": "bb1be73b-9722-40a7-c1b4-eda77329869b"
      },
      "execution_count": null,
      "outputs": [
        {
          "output_type": "stream",
          "name": "stdout",
          "text": [
            "Cannot divide by zero.\n"
          ]
        }
      ]
    },
    {
      "cell_type": "markdown",
      "source": [
        " **Q.6 Write a Python program that logs an error message to a log file when a division by zero exception occurs.**\n",
        "\n",
        " *Answer* - Here's a Python program that logs an error message to a log file when a division by zero exception occurs."
      ],
      "metadata": {
        "id": "7lNuisEvBDAC"
      }
    },
    {
      "cell_type": "code",
      "source": [
        "import logging\n",
        "\n",
        "logging.basicConfig(filename='error.log', level=logging.ERROR)\n",
        "\n",
        "try:\n",
        "    result = 10 / 0\n",
        "except ZeroDivisionError:\n",
        "    logging.error(\"Division by zero error occurred.\")\n",
        "\n"
      ],
      "metadata": {
        "colab": {
          "base_uri": "https://localhost:8080/"
        },
        "id": "q0Qnk2QGQ0Z_",
        "outputId": "92aa5be1-9134-4500-ccf4-879729920ae2"
      },
      "execution_count": null,
      "outputs": [
        {
          "output_type": "stream",
          "name": "stderr",
          "text": [
            "ERROR:root:Division by zero error occurred.\n"
          ]
        }
      ]
    },
    {
      "cell_type": "markdown",
      "source": [
        "**Q.7 How do you log information at different levels (INFO, ERROR, WARNING) in Python using the logging module?**\n",
        "\n",
        "*Answer* - In Python, you can use the logging module to log information at different levels such as INFO, ERROR, and WARNING.\n",
        "\n",
        "Here’s a basic example of how to set up logging and log messages at these levels:"
      ],
      "metadata": {
        "id": "ILE85id5RvdR"
      }
    },
    {
      "cell_type": "code",
      "source": [
        "import logging\n",
        "\n",
        "logging.basicConfig(level=logging.DEBUG)\n",
        "\n",
        "logging.info(\"This is an info message.\")\n",
        "logging.warning(\"This is a warning message.\")\n",
        "logging.error(\"This is an error message.\")"
      ],
      "metadata": {
        "colab": {
          "base_uri": "https://localhost:8080/"
        },
        "id": "TZ-y9uJjIC-W",
        "outputId": "600024a9-f692-49e4-f766-7cae7cf36249"
      },
      "execution_count": null,
      "outputs": [
        {
          "output_type": "stream",
          "name": "stderr",
          "text": [
            "WARNING:root:This is a warning message.\n",
            "ERROR:root:This is an error message.\n"
          ]
        }
      ]
    },
    {
      "cell_type": "markdown",
      "source": [
        "**Q.8 - Write a program to handle a file opening error using exception handling?**\n",
        "\n",
        "*Answer* - Here is an example of a Python program that demonstrates how to handle a file opening error using exception handling. The program attempts to open a file and read its contents. If the file does not exist or cannot be opened, it catches the exception and prints an error message.\n"
      ],
      "metadata": {
        "id": "R9UPOzSTgs7S"
      }
    },
    {
      "cell_type": "code",
      "source": [
        "try:\n",
        "       with open('file.txt', 'r') as file:\n",
        "           content = file.read()\n",
        "except IOError:\n",
        "       print(\"An error occurred while opening the file.\")"
      ],
      "metadata": {
        "colab": {
          "base_uri": "https://localhost:8080/"
        },
        "id": "J5tAWr2hIROX",
        "outputId": "05829dc4-8ec8-4624-d58d-114609105f70"
      },
      "execution_count": null,
      "outputs": [
        {
          "output_type": "stream",
          "name": "stdout",
          "text": [
            "An error occurred while opening the file.\n"
          ]
        }
      ]
    },
    {
      "cell_type": "markdown",
      "source": [
        "**Q.9 How can you read a file line by line and store its content in a list in Python?**\n",
        "\n",
        "*Answer* -\n"
      ],
      "metadata": {
        "id": "pcoZuVT6i1Eu"
      }
    },
    {
      "cell_type": "code",
      "source": [
        "def read_file_lines(filename):\n",
        "    try:\n",
        "        # Open the file in read mode\n",
        "        with open(filename, 'r') as file:\n",
        "            # Read the lines into a list\n",
        "            lines = file.readlines()\n",
        "            # Strip newline characters\n",
        "            lines = [line.strip() for line in lines]\n",
        "        return lines\n",
        "    except Exception as e:\n",
        "        print(f\"An error occurred: {e}\")\n",
        "\n",
        "# Create a sample file\n",
        "with open('example.txt', 'w') as file:\n",
        "    file.write(\"Hello, PWskills!\\n\")\n",
        "    file.write(\"This is the second line.\\n\")\n",
        "    file.write(\"This is the third line.\\n\")\n",
        "\n",
        "# Read the file lines\n",
        "filename = 'example.txt'\n",
        "lines = read_file_lines(filename)\n",
        "\n",
        "# Print the lines\n",
        "print(\"File Content:\")\n",
        "for i, line in enumerate(lines):\n",
        "    print(f\"Line {i+1}: {line}\")\n"
      ],
      "metadata": {
        "id": "RP6TCjvQlded",
        "colab": {
          "base_uri": "https://localhost:8080/"
        },
        "outputId": "edd4a6b5-a812-4203-c624-81c7fc38f8bf"
      },
      "execution_count": null,
      "outputs": [
        {
          "output_type": "stream",
          "name": "stdout",
          "text": [
            "File Content:\n",
            "Line 1: Hello, PWskills!\n",
            "Line 2: This is the second line.\n",
            "Line 3: This is the third line.\n"
          ]
        }
      ]
    },
    {
      "cell_type": "markdown",
      "source": [
        "**Q.10 How can you append data to an existing file in Python?**\n",
        "\n"
      ],
      "metadata": {
        "id": "y5_TjsMyj6nP"
      }
    },
    {
      "cell_type": "code",
      "source": [
        "def append_to_file(filename, data):\n",
        "    try:\n",
        "        # Open the file in append mode\n",
        "        with open(filename, 'a') as file:\n",
        "            # Append the data to the file\n",
        "            file.write(data + '\\n')\n",
        "        print(f\"Data appended to {filename} successfully.\")\n",
        "    except Exception as e:\n",
        "        print(f\"An error occurred: {e}\")\n",
        "\n",
        "# Example usage\n",
        "filename = 'example.txt'\n",
        "data = 'This is some new data.'\n",
        "append_to_file(filename, data)\n"
      ],
      "metadata": {
        "colab": {
          "base_uri": "https://localhost:8080/"
        },
        "id": "-TtwnX00-qZK",
        "outputId": "2c82a23a-2076-48dc-d264-f473730c1f90"
      },
      "execution_count": null,
      "outputs": [
        {
          "output_type": "stream",
          "name": "stdout",
          "text": [
            "Data appended to example.txt successfully.\n"
          ]
        }
      ]
    },
    {
      "cell_type": "markdown",
      "source": [
        "**Q.11 Write a Python program that uses a try-except block to handle an error when attempting to access a\n",
        "dictionary key that doesn't exist**\n",
        "\n",
        "*Answer* -\n",
        "\n",
        "**Handling Dictionary Key Errors in Python**\n",
        "\n",
        "Here's a Python program that demonstrates how to use a try-except block to handle a KeyError when attempting to access a non-existent dictionary key:"
      ],
      "metadata": {
        "id": "J3oD5q7ob9DE"
      }
    },
    {
      "cell_type": "code",
      "source": [
        "my_dict = {'a': 1, 'b': 2}\n",
        "try:\n",
        "    value = my_dict['c']\n",
        "except KeyError:\n",
        "    print(\"Key does not exist.\")\n"
      ],
      "metadata": {
        "colab": {
          "base_uri": "https://localhost:8080/"
        },
        "id": "7zpRqyq2-1Nl",
        "outputId": "0a75c7f0-5e38-4034-ef7c-495e74506adf"
      },
      "execution_count": null,
      "outputs": [
        {
          "output_type": "stream",
          "name": "stdout",
          "text": [
            "Key does not exist.\n"
          ]
        }
      ]
    },
    {
      "cell_type": "markdown",
      "source": [
        " **Q.12 Write a program that demonstrates using multiple except blocks to handle different types of exceptions?**\n",
        "\n",
        " *Answer* - **Handling Multiple Exceptions in Python**\n",
        "\n",
        " Here's a program that demonstrates using multiple except blocks to handle different types of exceptions:"
      ],
      "metadata": {
        "id": "h3yTZEhne1Cl"
      }
    },
    {
      "cell_type": "code",
      "source": [
        "def divide_numbers(a, b):\n",
        "    try:\n",
        "        # Attempt to divide two numbers\n",
        "        result = a / b\n",
        "        print(f\"The result is: {result}\")\n",
        "    except ZeroDivisionError:\n",
        "        # Handle division by zero error\n",
        "        print(\"Error: Division by zero is not allowed.\")\n",
        "    except TypeError:\n",
        "        # Handle type mismatch error\n",
        "        print(\"Error: Both inputs must be numbers.\")\n",
        "    except Exception as e:\n",
        "        # Handle any other unexpected errors\n",
        "        print(f\"An unexpected error occurred: {e}\")\n",
        "\n",
        "# Example usage\n",
        "divide_numbers(10, 2)  # Valid division\n",
        "divide_numbers(10, 0)  # Division by zero\n",
        "divide_numbers(10, 'a')  # Type mismatch"
      ],
      "metadata": {
        "colab": {
          "base_uri": "https://localhost:8080/"
        },
        "id": "yUTe5KOy_Nyh",
        "outputId": "fdde34b2-4256-44d5-ba6f-48dfa58ae4d5"
      },
      "execution_count": null,
      "outputs": [
        {
          "output_type": "stream",
          "name": "stdout",
          "text": [
            "The result is: 5.0\n",
            "Error: Division by zero is not allowed.\n",
            "Error: Both inputs must be numbers.\n"
          ]
        }
      ]
    },
    {
      "cell_type": "markdown",
      "source": [
        "**Q.13 How would you check if a file exists before attempting to read it in Python**\n",
        "\n",
        "*Answer* - Checking if a File Exists Before Reading in Python\n",
        "\n",
        "There are several ways to check if a file exists before attempting to read it. Here are the most common and recommended approaches:\n",
        "\n",
        "\n",
        " 1.  **Using os.path.exists()**"
      ],
      "metadata": {
        "id": "fxwAuhgDgeIh"
      }
    },
    {
      "cell_type": "code",
      "source": [
        "import os\n",
        "\n",
        "if os.path.exists('file.txt'):\n",
        "    with open('file.txt', 'r') as file:\n",
        "        content = file.read()\n",
        "else:\n",
        "    print(\"File does not exist.\")"
      ],
      "metadata": {
        "id": "NdpeWrAmheCY",
        "colab": {
          "base_uri": "https://localhost:8080/"
        },
        "outputId": "d7979483-5310-4673-f02b-43069f20d517"
      },
      "execution_count": null,
      "outputs": [
        {
          "output_type": "stream",
          "name": "stdout",
          "text": [
            "File does not exist.\n"
          ]
        }
      ]
    },
    {
      "cell_type": "markdown",
      "source": [
        "**Q.14  Write a program that uses the logging module to log both informational and error messages?**\n",
        "\n",
        "*Answer* - **Python Logging Example with Info and Error Messages**\n",
        "\n",
        "Here's a complete program demonstrating how to use Python's logging module to log both informational and error messages:"
      ],
      "metadata": {
        "id": "yt6s287siRDL"
      }
    },
    {
      "cell_type": "code",
      "source": [
        "import logging\n",
        "\n",
        "logging.basicConfig(level=logging.DEBUG)\n",
        "\n",
        "logging.info(\"This is an informational message.\")\n",
        "try:\n",
        "    result = 10 / 0\n",
        "except ZeroDivisionError:\n",
        "    logging.error(\"An error occurred: Division by zero.\")"
      ],
      "metadata": {
        "colab": {
          "base_uri": "https://localhost:8080/"
        },
        "id": "C4FaNRPpAe28",
        "outputId": "a7121f19-4f19-476c-866b-175097bafd6f"
      },
      "execution_count": null,
      "outputs": [
        {
          "output_type": "stream",
          "name": "stderr",
          "text": [
            "ERROR:root:An error occurred: Division by zero.\n"
          ]
        }
      ]
    },
    {
      "cell_type": "markdown",
      "source": [
        "**Q.15 Write a Python program that prints the content of a file and handles the case when the file is empty.**\n",
        "\n",
        "*Answer* - Here's a Python program that prints the content of a file while properly handling empty files:\n",
        "\n"
      ],
      "metadata": {
        "id": "X7y5wM1hlXxY"
      }
    },
    {
      "cell_type": "code",
      "source": [
        "filename = 'example.txt'\n",
        "\n",
        "# Create an empty file\n",
        "with open(filename, 'w') as file:\n",
        "    pass\n",
        "\n",
        "print_file_content(filename)\n",
        "\n",
        "# Write some content to the file\n",
        "with open(filename, 'w') as file:\n",
        "    file.write(\"Hello, Pw skills!\\n\")\n",
        "    file.write(\"This is a test file.\")\n",
        "\n",
        "print_file_content(filename)"
      ],
      "metadata": {
        "colab": {
          "base_uri": "https://localhost:8080/"
        },
        "id": "nJpCQrfRCAGe",
        "outputId": "cf0c9754-09eb-4d3c-e66d-72c1a6c47f6c"
      },
      "execution_count": null,
      "outputs": [
        {
          "output_type": "stream",
          "name": "stdout",
          "text": [
            "The file 'example.txt' is empty.\n",
            "Content of 'example.txt':\n",
            "\n",
            "Hello, Pw skills!\n",
            "This is a test file.\n"
          ]
        }
      ]
    },
    {
      "cell_type": "markdown",
      "source": [
        "**Q.16 Demonstrate how to use memory profiling to check the memory usage of a small program.**\n",
        "\n",
        "*Answer* - **Memory Profiling in Python**\n",
        "\n",
        "Here's a demonstration of how to profile memory usage in a Python program using the memory-profiler package:"
      ],
      "metadata": {
        "id": "O1ATtIKzpZJ4"
      }
    },
    {
      "cell_type": "code",
      "source": [
        "from memory_profiler import profile\n",
        "\n",
        "@profile\n",
        "def create_list():\n",
        "    # Create a large list to consume memory\n",
        "    big_list = [i for i in range(1000000)]\n",
        "    return sum(big_list)\n",
        "\n",
        "if __name__ == \"__main__\":\n",
        "    create_list()"
      ],
      "metadata": {
        "colab": {
          "base_uri": "https://localhost:8080/"
        },
        "id": "5xSBaxtQHvTw",
        "outputId": "a57b5798-a3a5-42ba-8b23-50866ba56876"
      },
      "execution_count": 6,
      "outputs": [
        {
          "output_type": "stream",
          "name": "stderr",
          "text": [
            "\n",
            "PYDEV DEBUGGER WARNING:\n",
            "sys.settrace() should not be used when the debugger is being used.\n",
            "This may cause the debugger to stop working correctly.\n",
            "If this is needed, please check: \n",
            "http://pydev.blogspot.com/2007/06/why-cant-pydev-debugger-work-with.html\n",
            "to see how to restore the debug tracing back correctly.\n",
            "Call Location:\n",
            "  File \"/usr/local/lib/python3.11/dist-packages/memory_profiler.py\", line 847, in enable\n",
            "    sys.settrace(self.trace_memory_usage)\n",
            "\n"
          ]
        },
        {
          "output_type": "stream",
          "name": "stdout",
          "text": [
            "ERROR: Could not find file /tmp/ipython-input-6-1669678918.py\n"
          ]
        },
        {
          "output_type": "stream",
          "name": "stderr",
          "text": [
            "\n",
            "PYDEV DEBUGGER WARNING:\n",
            "sys.settrace() should not be used when the debugger is being used.\n",
            "This may cause the debugger to stop working correctly.\n",
            "If this is needed, please check: \n",
            "http://pydev.blogspot.com/2007/06/why-cant-pydev-debugger-work-with.html\n",
            "to see how to restore the debug tracing back correctly.\n",
            "Call Location:\n",
            "  File \"/usr/local/lib/python3.11/dist-packages/memory_profiler.py\", line 850, in disable\n",
            "    sys.settrace(self._original_trace_function)\n",
            "\n"
          ]
        }
      ]
    },
    {
      "cell_type": "markdown",
      "source": [
        "**Q.17 Write a Python program to create and write a list of numbers to a file, one number per line**\n",
        "\n",
        "*Answer* - **Python Program to Write Numbers to a File (One per Line)**\n",
        "\n",
        "Here's a complete Python program that creates a list of numbers and writes them to a file, with each number on its own line:"
      ],
      "metadata": {
        "id": "xFrAF5S4CRd9"
      }
    },
    {
      "cell_type": "code",
      "source": [
        "# Define a list of numbers\n",
        "numbers = [1, 2, 3, 4, 5, 100, 200, 300]\n",
        "\n",
        "# Specify the filename\n",
        "filename = \"numbers.txt\"\n",
        "\n",
        "# Open the file in write mode\n",
        "with open(filename, 'w') as file:\n",
        "    # Write each number to the file on a new line\n",
        "    for number in numbers:\n",
        "        file.write(f\"{number}\\n\")\n",
        "\n",
        "print(f\"Successfully written {len(numbers)} numbers to '{filename}'.\")\n"
      ],
      "metadata": {
        "id": "KJJx4_wII6m-",
        "outputId": "c3b31c8e-0cad-4ad3-bcea-d88018497705",
        "colab": {
          "base_uri": "https://localhost:8080/"
        }
      },
      "execution_count": 14,
      "outputs": [
        {
          "output_type": "stream",
          "name": "stdout",
          "text": [
            "Successfully written 8 numbers to 'numbers.txt'.\n"
          ]
        }
      ]
    },
    {
      "cell_type": "markdown",
      "source": [
        "**Q.18 How would you implement a basic logging setup that logs to a file with rotation after 1MB.**\n",
        "\n",
        "*Answer* - Here's a complete implementation of a logging setup that logs to a file and automatically rotates it when it reaches 1MB:"
      ],
      "metadata": {
        "id": "zc96bchlEeKB"
      }
    },
    {
      "cell_type": "code",
      "source": [
        "import logging\n",
        "from logging.handlers import RotatingFileHandler\n",
        "\n",
        "# Set up logging\n",
        "logger = logging.getLogger(__name__)\n",
        "logger.setLevel(logging.DEBUG)\n",
        "\n",
        "# Set up rotating file handler\n",
        "handler = RotatingFileHandler('app.log', maxBytes=1024*1024, backupCount=5)\n",
        "handler.setLevel(logging.DEBUG)\n",
        "\n",
        "# Set up formatter\n",
        "formatter = logging.Formatter('%(asctime)s - %(name)s - %(levelname)s - %(message)s')\n",
        "handler.setFormatter(formatter)\n",
        "\n",
        "# Add handler to logger\n",
        "logger.addHandler(handler)\n",
        "\n",
        "# Test the logger\n",
        "logger.debug('This is a debug message.')\n",
        "logger.info('This is an info message.')\n",
        "logger.warning('This is a warning message.')\n",
        "logger.error('This is an error message.')\n",
        "logger.critical('This is a critical message.')\n"
      ],
      "metadata": {
        "colab": {
          "base_uri": "https://localhost:8080/"
        },
        "id": "Vk_9bLDoD92i",
        "outputId": "699e047c-4b60-40f3-c6ae-b7ef929ad1ba"
      },
      "execution_count": null,
      "outputs": [
        {
          "output_type": "stream",
          "name": "stderr",
          "text": [
            "DEBUG:__main__:This is a debug message.\n",
            "INFO:__main__:This is an info message.\n",
            "WARNING:__main__:This is a warning message.\n",
            "ERROR:__main__:This is an error message.\n",
            "CRITICAL:__main__:This is a critical message.\n"
          ]
        }
      ]
    },
    {
      "cell_type": "markdown",
      "source": [
        "**Q.19 Write a program that handles both IndexError and KeyError using a try-except block.**\n",
        "\n",
        "*Answer* - **Handling IndexError and KeyError in Python**\n",
        "\n",
        "Here's a program that demonstrates how to handle both IndexError and KeyError using a try-except block:"
      ],
      "metadata": {
        "id": "Pm5A6BThHdae"
      }
    },
    {
      "cell_type": "code",
      "source": [
        "def handle_errors():\n",
        "    try:\n",
        "        my_list = [1, 2, 3]\n",
        "        print(my_list[5])\n",
        "    except (IndexError, KeyError) as e:\n",
        "        if isinstance(e, IndexError):\n",
        "            print(\"Error: Index out of range.\")\n",
        "        elif isinstance(e, KeyError):\n",
        "            print(\"Error: Key not found.\")\n",
        "\n",
        "    try:\n",
        "        my_dict = {\"name\": \"John\", \"age\": 30}\n",
        "        print(my_dict[\"city\"])\n",
        "    except (IndexError, KeyError) as e:\n",
        "        if isinstance(e, IndexError):\n",
        "            print(\"Error: Index out of range.\")\n",
        "        elif isinstance(e, KeyError):\n",
        "            print(\"Error: Key not found.\")"
      ],
      "metadata": {
        "id": "zsblsAxGHSiB"
      },
      "execution_count": null,
      "outputs": []
    },
    {
      "cell_type": "markdown",
      "source": [
        "**Q.20  How would you open a file and read its contents using a context manager in Python?**\n",
        "\n"
      ],
      "metadata": {
        "id": "v8EEarhSJBar"
      }
    },
    {
      "cell_type": "code",
      "source": [
        "import os\n",
        "\n",
        "file_path = 'input.txt'\n",
        "\n",
        "if os.path.exists(file_path):\n",
        "    with open(file_path, 'r') as file:\n",
        "        content = file.read()\n",
        "        print(content)\n",
        "else:\n",
        "    print(f\"Error: The file '{file_path}' does not exist.\")"
      ],
      "metadata": {
        "id": "_qlqa-49JuaX",
        "colab": {
          "base_uri": "https://localhost:8080/"
        },
        "outputId": "8af0a0f7-6063-4aef-ba12-1782fedae651"
      },
      "execution_count": null,
      "outputs": [
        {
          "output_type": "stream",
          "name": "stdout",
          "text": [
            "Error: The file 'input.txt' does not exist.\n"
          ]
        }
      ]
    },
    {
      "cell_type": "markdown",
      "source": [
        "**Q,21 Write a Python program that reads a file and prints the number of occurrences of a specific word.**\n",
        "\n",
        "*Answer* - Here’s a simple Python program that reads a file and counts the number of occurrences of a specific word. You can specify the filename and the word you want to count."
      ],
      "metadata": {
        "id": "xt6IiTaDKYn1"
      }
    },
    {
      "cell_type": "code",
      "source": [
        "def count_word_occurrences(filename, target_word):\n",
        "    try:\n",
        "        with open(filename, 'r') as file:\n",
        "            contents = file.read()\n",
        "            # Convert the contents to lowercase to make the search case-insensitive\n",
        "            contents = contents.lower()\n",
        "            # Split the contents into words\n",
        "            words = contents.split()\n",
        "            # Count the occurrences of the target word\n",
        "            count = words.count(target_word.lower())\n",
        "            return count\n",
        "    except FileNotFoundError:\n",
        "        print(f\"The file '{filename}' was not found.\")\n",
        "        return 0\n",
        "\n",
        "# Example usage\n",
        "if __name__ == \"__main__\":\n",
        "    filename = 'example.txt'  # Replace with your file name\n",
        "    target_word = 'yourword'   # Replace with the word you want to count\n",
        "    occurrences = count_word_occurrences(filename, target_word)\n",
        "    print(f\"The word '{target_word}' occurs {occurrences} times in the file '{filename}'.\")\n"
      ],
      "metadata": {
        "id": "v3xdnsSELDKk",
        "colab": {
          "base_uri": "https://localhost:8080/"
        },
        "outputId": "d3bfcced-c1ac-432d-e21c-0311202f8ab9"
      },
      "execution_count": null,
      "outputs": [
        {
          "output_type": "stream",
          "name": "stdout",
          "text": [
            "The word 'yourword' occurs 0 times in the file 'example.txt'.\n"
          ]
        }
      ]
    },
    {
      "cell_type": "markdown",
      "source": [
        "**Q.22   How can you check if a file is empty before attempting to read its contents?**\n",
        "\n",
        "*Answer* - You can check if a file is empty in Python by using the os module to get the file size before attempting to read its contents. Here’s how you can do it:\n",
        "\n"
      ],
      "metadata": {
        "id": "uzfNU88HLvxg"
      }
    },
    {
      "cell_type": "code",
      "source": [
        "import os\n",
        "\n",
        "file_path = 'example.txt'  # Replace with your file path\n",
        "\n",
        "# Check if the file exists\n",
        "if os.path.exists(file_path):\n",
        "    # Check if the file is empty\n",
        "    if os.path.getsize(file_path) == 0:\n",
        "        print(\"The file is empty.\")\n",
        "    else:\n",
        "        with open(file_path, 'r') as file:\n",
        "            content = file.read()\n",
        "            print(\"File content:\")\n",
        "            print(content)\n",
        "else:\n",
        "    print(\"The file does not exist.\")"
      ],
      "metadata": {
        "colab": {
          "base_uri": "https://localhost:8080/"
        },
        "id": "SsdaccOJFwzj",
        "outputId": "65bbe707-8bfd-45d1-aba5-57d7fddcaa88"
      },
      "execution_count": null,
      "outputs": [
        {
          "output_type": "stream",
          "name": "stdout",
          "text": [
            "File content:\n",
            "Hello, Pw skills!\n",
            "This is a test file.\n"
          ]
        }
      ]
    },
    {
      "cell_type": "markdown",
      "source": [
        "**Q.23 Write a Python program that writes to a log file when an error occurs during file handling.**\n",
        "\n",
        "*Answer* -"
      ],
      "metadata": {
        "id": "MivxTupHM_Kf"
      }
    },
    {
      "cell_type": "code",
      "source": [
        "import logging\n",
        "\n",
        "logging.basicConfig(filename='file_error.log', level=logging.ERROR)\n",
        "\n",
        "try:\n",
        "    with open('non_existent_file.txt', 'r') as file:\n",
        "        content = file.read()\n",
        "except Exception as e:\n",
        "    logging.error(f\"An error occurred: {e}\")"
      ],
      "metadata": {
        "colab": {
          "base_uri": "https://localhost:8080/"
        },
        "id": "X-23fhdpFNNe",
        "outputId": "d7a91f9c-c76d-460e-fc18-82991d52ee41"
      },
      "execution_count": null,
      "outputs": [
        {
          "output_type": "stream",
          "name": "stderr",
          "text": [
            "ERROR:root:An error occurred: [Errno 2] No such file or directory: 'non_existent_file.txt'\n"
          ]
        }
      ]
    }
  ]
}